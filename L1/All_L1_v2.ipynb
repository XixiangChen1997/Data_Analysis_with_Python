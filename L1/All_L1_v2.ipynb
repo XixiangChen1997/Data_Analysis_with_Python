{
 "cells": [
  {
   "cell_type": "code",
   "execution_count": 6,
   "metadata": {},
   "outputs": [
    {
     "name": "stdout",
     "output_type": "stream",
     "text": [
      "200\n"
     ]
    }
   ],
   "source": [
    "#t1\n",
    "#输入与输出\n",
    "# name = input('What is your name?')\n",
    "sum = 100 + 100\n",
    "# print('hello, %s' %name)\n",
    "# print('sum = %d' %sum)\n",
    "print('{}'.format(sum))"
   ]
  },
  {
   "cell_type": "code",
   "execution_count": 2,
   "metadata": {},
   "outputs": [
    {
     "name": "stdout",
     "output_type": "stream",
     "text": [
      "今天天气晴朗\n",
      "拦路雨比较无聊，在写博客\n"
     ]
    }
   ],
   "source": [
    "#format输出方法的其他的使用方法\n",
    "print('{a}天气晴朗'.format(a='今天'))\n",
    "\n",
    "grade = {'I' : '拦路雨', '状态': '写博客'}\n",
    "print('{I}比较无聊，在{状态}'.format(**grade))#字典前加上**"
   ]
  },
  {
   "cell_type": "code",
   "execution_count": 3,
   "metadata": {},
   "outputs": [
    {
     "name": "stdout",
     "output_type": "stream",
     "text": [
      "1\n"
     ]
    }
   ],
   "source": [
    "a = 1\n",
    "print('{}'.format(a))"
   ]
  },
  {
   "cell_type": "code",
   "execution_count": 7,
   "metadata": {},
   "outputs": [
    {
     "name": "stdout",
     "output_type": "stream",
     "text": [
      "His name is Mike. He likes running, and he does it for a long time\n"
     ]
    }
   ],
   "source": [
    "s1 = {'subject':'Mike','verb-ing':'running','adv':'for a long time'}\n",
    "print('His name is {subject}. He likes {verb-ing}, and he does it {adv}'.format(**s1))"
   ]
  },
  {
   "cell_type": "code",
   "execution_count": null,
   "metadata": {},
   "outputs": [],
   "source": [
    "#t2\n",
    "# 条件判断\n",
    "score = int(input('what is the score?'))\n",
    "if score >= 90:\n",
    "    print('Excellent!')\n",
    "elif score < 60:\n",
    "    print('Failed')\n",
    "else:\n",
    "    print('Good job!')"
   ]
  },
  {
   "cell_type": "code",
   "execution_count": null,
   "metadata": {},
   "outputs": [],
   "source": [
    "#t3\n",
    "# for循环\n",
    "sum1 = 0\n",
    "for num in range(11):\n",
    "    sum1 += num\n",
    "print(sum1)  \n",
    "\n",
    "# while循环\n",
    "sum2 = 0\n",
    "num = 1\n",
    "while num < 11:\n",
    "    sum2 += num\n",
    "    num += 1\n",
    "print(sum2)"
   ]
  },
  {
   "cell_type": "code",
   "execution_count": 9,
   "metadata": {},
   "outputs": [
    {
     "name": "stdin",
     "output_type": "stream",
     "text": [
      "悦儿多大呢： 12\n"
     ]
    },
    {
     "name": "stdout",
     "output_type": "stream",
     "text": [
      "再大一点\n"
     ]
    },
    {
     "name": "stdin",
     "output_type": "stream",
     "text": [
      "悦儿多大呢： 18\n"
     ]
    },
    {
     "name": "stdout",
     "output_type": "stream",
     "text": [
      "恭喜你猜中了。\n"
     ]
    }
   ],
   "source": [
    "#while循环与条件判断结合应用\n",
    "#猜年龄\n",
    "yueer = 18\n",
    "count = 0\n",
    "while count < 3:\n",
    "     yueerage = int(input('悦儿多大呢：'))\n",
    "     if yueerage == yueer:\n",
    "         print('恭喜你猜中了。')\n",
    "         break\n",
    "     elif yueerage > yueer:\n",
    "         print('你猜得太大了。')\n",
    "     elif yueerage < yueer:\n",
    "         print('再大一点')\n",
    "     count += 1\n",
    "     if count ==3:\n",
    "         count_jixu = input('继续Y，不继续N：')\n",
    "         if count_jixu == 'Y':\n",
    "             count = 0\n",
    "         elif count_jixu == 'N':\n",
    "             count = 3\n",
    "else:\n",
    "     print(\"fuck off\")"
   ]
  },
  {
   "cell_type": "code",
   "execution_count": null,
   "metadata": {},
   "outputs": [],
   "source": [
    "#t4\n",
    "#列表\n",
    "lists = ['zhangfei','guanyu','liubei']\n",
    "#append()\n",
    "lists.append('dianwei')\n",
    "print(lists)\n",
    "print(len(lists))\n",
    "#insert an element at a certain place\n",
    "lists.insert(0,'diaochan')\n",
    "print(lists)\n",
    "#delete the last element\n",
    "lists.pop()\n",
    "print(lists)"
   ]
  },
  {
   "cell_type": "markdown",
   "metadata": {},
   "source": [
    "列表删除元素的方法\n",
    "a.pop(index):删除列表a中index处的值,并且返回这个值.\n",
    "del(a[index]):删除列表a中index处的值,无返回值. del中的index可以是切片,所以可以实现批量删除.\n",
    "a.remove(value):删除列表a中第一个等于value的值,无返回.\n",
    "#* 列表批量删除时可以选择倒叙再遍历的方法，否则会存在删除不全的状态。"
   ]
  },
  {
   "cell_type": "code",
   "execution_count": 19,
   "metadata": {},
   "outputs": [
    {
     "name": "stdout",
     "output_type": "stream",
     "text": [
      "[1, 4, 5, 3, 5, 7, 9]\n"
     ]
    }
   ],
   "source": [
    "a=[1,5,4,5,3,5,7,9]\n",
    "#print(a.pop(1))\n",
    "#del(a[0:2])\n",
    "#a.remove(5)\n",
    "print(a)"
   ]
  },
  {
   "cell_type": "code",
   "execution_count": null,
   "metadata": {},
   "outputs": [],
   "source": [
    "#t5\n",
    "#元组\n",
    "tuples = ('zhangfei',65)\n",
    "print(tuples[0])\n",
    "\n",
    "#返回字典key组成的tuple\n",
    "print(tuple({'zhangfei':88,'diaochan':33}))\n",
    "\n",
    "# 列表转化为元组\n",
    "temp_list = [123, 'zhangfei', 'guanyu', 'liubei'];\n",
    "temp_tuple = tuple(temp_list)\n",
    "print(temp_tuple)\n"
   ]
  },
  {
   "cell_type": "code",
   "execution_count": null,
   "metadata": {},
   "outputs": [],
   "source": [
    "#t6\n",
    "#字典\n",
    "#定义一个dictionary\n",
    "score = {'guanyu':96,'zhangfei':95}\n",
    "\n",
    "#添加一个元素\n",
    "score['zhaoyun'] = 98\n",
    "print(score)\n",
    "\n",
    "#删除一个元素\n",
    "score.pop('zhangfei')\n",
    "print(score)\n",
    "\n",
    "#查看key是否存在\n",
    "print('zhangfei' in score)\n",
    "\n",
    "#查看一个key对应的值\n",
    "print(score.get('zhangfei'))\n",
    "print(score.get('dianwei',99))\n",
    "print(score)"
   ]
  },
  {
   "cell_type": "code",
   "execution_count": null,
   "metadata": {},
   "outputs": [],
   "source": [
    "#t7\n",
    "#集合\n",
    "s = set(['dianwei','diaochan','zhaoyun'])\n",
    "s.add('liubei')\n",
    "print(s)\n",
    "s.remove('diaochan')\n",
    "print(s)\n",
    "print('diaochan' in s)\n",
    "\n",
    "#set有一个简单的应用，set（列表） 可以进行列表去重"
   ]
  },
  {
   "cell_type": "code",
   "execution_count": null,
   "metadata": {},
   "outputs": [],
   "source": [
    "#t8\n",
    "#numpy的使用\n",
    "import numpy as np\n",
    "\n",
    "#ndarray的使用\n",
    "def work1():\n",
    "    a = np.array([1,2,3])\n",
    "    b = np.array([[1,2,3], [4,5,6], [7,8,9]])\n",
    "    b[1,1] = 10\n",
    "    print(a.shape)\n",
    "    print(b.shape)\n",
    "    print(a.dtype)\n",
    "    print(b)\n",
    "    \n",
    "#结构化数组的使用\n",
    "def work2():\n",
    "    persontype = np.dtype({'names':['name','age','chinese','math','english'], 'formats':['S32','i', 'i', 'i', 'f']})\n",
    "    peoples = np.array([(\"ZhangFei\",32,75,100, 90),(\"GuanYu\",24,85,96,88.5),(\"ZhaoYun\",28,85,92,96.5),(\"HuangZhong\",29,65,85,100)],\\\n",
    "                       dtype=persontype)\n",
    "    ages = peoples['age']\n",
    "    chineses = peoples['chinese']\n",
    "    maths = peoples['math']\n",
    "    englishs = peoples['english']\n",
    "    print(ages, chineses, maths, englishs)\n",
    "    print(np.mean(ages))\n",
    "    print(np.mean(chineses))\n",
    "    print(np.mean(maths))\n",
    "    print(np.mean(englishs))\n",
    "\n",
    "\n",
    "work1()\n",
    "print('--------------')\n",
    "work2()"
   ]
  },
  {
   "cell_type": "code",
   "execution_count": null,
   "metadata": {},
   "outputs": [],
   "source": [
    "#t9\n",
    "# 连续数组的创建：arange 或 linspace\n",
    "import numpy as np\n",
    "x1 = np.arange(1,11,2)\n",
    "x2 = np.linspace(1,9,5)\n",
    "print('x1=', x1)\n",
    "print('x2=', x2)\n",
    "\n",
    "print(np.add(x1,x2))\n",
    "print(np.subtract(x1,x2))\n",
    "print(np.multiply(x1,x2))\n",
    "print(np.divide(x1,x2))\n",
    "print(np.power(x1,x2))\n",
    "print(np.remainder(x1,x2))"
   ]
  },
  {
   "cell_type": "code",
   "execution_count": 52,
   "metadata": {},
   "outputs": [
    {
     "name": "stdout",
     "output_type": "stream",
     "text": [
      "min and max\n",
      "1\n",
      "[1 2 3]\n",
      "[1 4 7]\n",
      "9\n",
      "[7 8 9]\n",
      "[3 6 9]\n",
      "percentile\n",
      "5.0\n",
      "[4. 5. 6.]\n",
      "[2. 5. 8.]\n",
      "mean and median\n",
      "5.0\n",
      "[4. 5. 6.]\n",
      "[2. 5. 8.]\n",
      "5.0\n",
      "[4. 5. 6.]\n",
      "[2. 5. 8.]\n",
      "weighted mean\n",
      "2.5\n",
      "3.0\n",
      "stdev and variance\n",
      "1.118033988749895\n",
      "1.25\n",
      "sort1\n",
      "[[2 3 4]\n",
      " [1 2 4]]\n",
      "[1 2 2 3 4 4]\n",
      "[[2 3 1]\n",
      " [4 4 2]]\n",
      "[[2 3 4]\n",
      " [1 2 4]]\n",
      "<class 'numpy.ndarray'>\n",
      "sort2\n",
      "<class 'list'>\n",
      "[1, 2, 2, 3, 4, 4]\n",
      "[4, 4, 3, 2, 2, 1]\n"
     ]
    }
   ],
   "source": [
    "#t10\n",
    "# numpy中统计函数的使用\n",
    "import numpy as np\n",
    "# 最大、最小值\n",
    "def work1():\n",
    "    a = np.array([[1,2,3], [4,5,6], [7,8,9]])\n",
    "    print(np.min(a))\n",
    "    print(np.min(a,0))\n",
    "    print(np.min(a,1))\n",
    "    print(np.max(a))\n",
    "    print(np.max(a,0))\n",
    "    print(np.max(a,1))\n",
    "\n",
    "# 统计百分位数\n",
    "def work2():\n",
    "\ta = np.array([[1,2,3], [4,5,6], [7,8,9]])\n",
    "\tprint(np.percentile(a, 50))\n",
    "\tprint(np.percentile(a, 50, axis=0))\n",
    "\tprint(np.percentile(a, 50, axis=1))\n",
    "\n",
    "# 中位数、平均数\n",
    "def work3():\n",
    "\ta = np.array([[1,2,3], [4,5,6], [7,8,9]])\n",
    "\t#求中位数\n",
    "\tprint(np.median(a))\n",
    "\tprint(np.median(a, axis=0))\n",
    "\tprint(np.median(a, axis=1))\n",
    "\t#求平均数\n",
    "\tprint(np.mean(a))\n",
    "\tprint(np.mean(a, axis=0))\n",
    "\tprint(np.mean(a, axis=1))\n",
    "\n",
    "# 加权平均值\n",
    "def work4():\n",
    "\ta = np.array([1,2,3,4])\n",
    "\tweights = np.array([1,2,3,4])\n",
    "\tprint(np.average(a))\n",
    "\tprint(np.average(a,weights=weights))\n",
    "\n",
    "# 标准差、方差\n",
    "def work5():\n",
    "\ta = np.array([1,2,3,4])\n",
    "\tprint(np.std(a))\n",
    "\tprint(np.var(a))\n",
    "\n",
    "# 对数组进行排序\n",
    "def work6():\n",
    "\ta = np.array([[4,3,2],[2,4,1]])\n",
    "\tprint(np.sort(a))\n",
    "\tprint(np.sort(a, axis=None))\n",
    "\tprint(np.sort(a, axis=0))\n",
    "\tprint(np.sort(a, axis=1))\n",
    "\tprint(type(a))\n",
    "\t\n",
    "# 对数组进行排序\n",
    "def work7():\n",
    "\t# 使用List进行排序\n",
    "\ta = [4,3,2,2,4,1]\n",
    "\tprint(type(a))\n",
    "\ta.sort()\n",
    "\tprint(a)\n",
    "\ta.sort(reverse=True)\n",
    "\tprint(a)\n",
    "\n",
    "print('min and max')\n",
    "work1()\n",
    "print('percentile')\n",
    "work2()\n",
    "print('mean and median')\n",
    "work3()\n",
    "print('weighted mean')\n",
    "work4()\n",
    "print('stdev and variance')\n",
    "work5()\n",
    "print('sort1')\n",
    "work6()\n",
    "print('sort2')\n",
    "work7()"
   ]
  },
  {
   "cell_type": "code",
   "execution_count": null,
   "metadata": {},
   "outputs": [],
   "source": [
    "#action2\n",
    "#求2+4+6+8+...+100的求和\n",
    "sum = 0\n",
    "for i in range(2,101):\n",
    "    sum += i\n",
    "print(sum)"
   ]
  },
  {
   "cell_type": "code",
   "execution_count": null,
   "metadata": {},
   "outputs": [],
   "source": [
    "#这道题应该是没仔细看题，要求100内偶数和\n",
    "sum = 0\n",
    "for i in range(2, 101, 2):\n",
    "    print(i)\n",
    "    sum += i\n",
    "print(sum)"
   ]
  },
  {
   "cell_type": "code",
   "execution_count": 20,
   "metadata": {},
   "outputs": [
    {
     "name": "stdout",
     "output_type": "stream",
     "text": [
      "Min Chinese: 68\n",
      "Min English: 30\n",
      "Min Math: 65\n",
      "Mean Chinese: 86.2\n",
      "Mean English: 76.6\n",
      "Mean Math: 81.0\n",
      "std Math: 9.338094023943002\n",
      "[[b'Zhangfei' b'163']\n",
      " [b'Guanyu' b'269']\n",
      " [b'Liubei' b'272']\n",
      " [b'Dianwei' b'255']\n",
      " [b'Xuzhu' b'260']]\n"
     ]
    },
    {
     "data": {
      "text/plain": [
       "array([[b'Dianwei', b'163'],\n",
       "       [b'Guanyu', b'255'],\n",
       "       [b'Liubei', b'260'],\n",
       "       [b'Xuzhu', b'269'],\n",
       "       [b'Zhangfei', b'272']], dtype='|S32')"
      ]
     },
     "execution_count": 20,
     "metadata": {},
     "output_type": "execute_result"
    }
   ],
   "source": [
    "#action3\n",
    "#我的版本\n",
    "#统计全班的成绩\n",
    "import numpy as np\n",
    "persontype = np.dtype({'names':['name','Chinese','Math','English'], 'formats':['S32', 'i', 'i', 'i']})\n",
    "scores = np.array([('Zhangfei',68,65,30),('Guanyu',95,76,98),('Liubei',98,86,88),('Dianwei',90,88,77),('Xuzhu',80,90,90)], dtype = persontype)\n",
    "Chineses = scores['Chinese']\n",
    "Maths = scores['Math']\n",
    "Englishs = scores['English']\n",
    "names = scores['name']\n",
    "print('Min Chinese:', Chineses.min())\n",
    "print('Min English:', Englishs.min())\n",
    "print('Min Math:', Maths.min())\n",
    "\n",
    "print('Mean Chinese:', Chineses.mean())\n",
    "print('Mean English:', Englishs.mean())\n",
    "print('Mean Math:', Maths.mean())\n",
    "\n",
    "print('std Math:', np.std(Maths))\n",
    "\n",
    "total = []\n",
    "for i in range(5):\n",
    "    t = scores[i][1]+scores[i][2]+scores[i][3]\n",
    "    total.append(t)\n",
    "total = np.array(total)\n",
    "s0 = np.vstack((names,total))\n",
    "s0 = s0.T\n",
    "print(s0)\n",
    "np.sort(s0, axis = 0)"
   ]
  },
  {
   "cell_type": "code",
   "execution_count": 22,
   "metadata": {},
   "outputs": [
    {
     "name": "stdout",
     "output_type": "stream",
     "text": [
      "mean 86.2\n",
      "mean 76.6\n",
      "mean 81.0\n",
      "min 68\n",
      "30\n",
      "65\n",
      "98\n",
      "98\n",
      "90\n",
      "10.961751684835777\n",
      "120.16\n",
      "24.24541193710678\n",
      "587.8399999999999\n",
      "std math:  9.338094023943002\n",
      "87.2\n",
      "[[68 80 90 95 98]\n",
      " [30 77 88 90 98]\n",
      " [65 76 86 88 90]]\n",
      "[(b'liubei', 98, 86, 88), (b'guanyu', 95, 76, 98), (b'xuchu', 80, 90, 90), (b'dianwei', 90, 88, 77), (b'zhangfei', 68, 65, 30)]\n"
     ]
    }
   ],
   "source": [
    "#助教版本\n",
    "\n",
    "import numpy as np\n",
    "\n",
    "# 1、先定义一个人物类\n",
    "persontype = np.dtype({\n",
    "    'names': ['name', 'chinese', 'math', 'english'],\n",
    "    'formats': ['S32', 'i', 'i', 'i']\n",
    "})\n",
    "# 2、将数据加载\n",
    "peoples = np.array([(\"zhangfei\", 68, 65, 30), (\"guanyu\", 95, 76, 98),\n",
    "                    (\"liubei\", 98, 86, 88), (\"dianwei\", 90, 88, 77), (\"xuchu\", 80, 90, 90)],\n",
    "                   dtype=persontype)\n",
    "# 3、统计单科成绩\n",
    "chineses = peoples[:]['chinese']\n",
    "englishs = peoples[:]['english']\n",
    "maths = peoples[:]['math']\n",
    "# 平均成绩\n",
    "print('mean', np.mean(chineses))\n",
    "print('mean', np.mean(englishs))\n",
    "print('mean', np.mean(maths))\n",
    "# 输出最小值和最大值\n",
    "print('min', np.amin(chineses))\n",
    "print(np.amin(englishs))\n",
    "print(np.amin(maths))\n",
    "print(np.amax(chineses))\n",
    "print(np.amax(englishs))\n",
    "print(np.amax(maths))\n",
    "# 计算方差和标准差\n",
    "stdchinese = np.array(chineses)\n",
    "print(np.std(stdchinese))\n",
    "print(np.var(stdchinese))\n",
    "stdenglish = np.array(englishs)\n",
    "print(np.std(stdenglish))\n",
    "print(np.var(stdenglish))\n",
    "stdmath = np.array(maths)\n",
    "print('std math: ',np.std(stdmath))\n",
    "print(np.var(stdmath))\n",
    "# 排序\n",
    "# ①所有成绩\n",
    "a = np.array([chineses, englishs, maths])\n",
    "print(np.sort(a))\n",
    "# ②按照三科成绩之和降序排列\n",
    "# 用sorted函数进行排序\n",
    "ranking = sorted(peoples, key=lambda x: x[1] + x[2] + x[3], reverse=True)\n",
    "print(ranking)\n"
   ]
  },
  {
   "cell_type": "code",
   "execution_count": null,
   "metadata": {},
   "outputs": [],
   "source": []
  }
 ],
 "metadata": {
  "kernelspec": {
   "display_name": "Python 3",
   "language": "python",
   "name": "python3"
  },
  "language_info": {
   "codemirror_mode": {
    "name": "ipython",
    "version": 3
   },
   "file_extension": ".py",
   "mimetype": "text/x-python",
   "name": "python",
   "nbconvert_exporter": "python",
   "pygments_lexer": "ipython3",
   "version": "3.7.3"
  }
 },
 "nbformat": 4,
 "nbformat_minor": 4
}
